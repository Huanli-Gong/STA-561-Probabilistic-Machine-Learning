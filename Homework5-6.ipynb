{
 "cells": [
  {
   "cell_type": "code",
   "execution_count": 1,
   "id": "7e560316",
   "metadata": {},
   "outputs": [],
   "source": [
    "import numpy as np\n",
    "import pandas as pd\n",
    "import random\n",
    "import numpy.random as nr\n",
    "from sklearn import datasets\n",
    "import matplotlib.pyplot as plt"
   ]
  },
  {
   "cell_type": "markdown",
   "id": "fef25823",
   "metadata": {},
   "source": [
    "Question 3"
   ]
  },
  {
   "cell_type": "code",
   "execution_count": 2,
   "id": "ce923e52",
   "metadata": {},
   "outputs": [],
   "source": [
    "def estimator(X, y, B=1000, random_matrix_generator=None, min_k=1, max_k=100, sampling_distribution=None):\n",
    "    \"\"\"\n",
    "    Performs randomized estimations to compute an averaged Beta matrix over a specified number of iterations.\n",
    "    X: Matrix of predictor variables (X)\n",
    "    y: Vector of response variables (y)\n",
    "    B: Number of iterations for averaging Beta estimates\n",
    "    random_matrix_generator: Function to generate random matrices, defaults to a coin flip simulation\n",
    "    min_k: Minimum value for sampling k in random matrix generation\n",
    "    max_k: Maximum value for sampling k in random matrix generation\n",
    "    sampling_distribution: Probability distribution function for sampling k, defaults to uniform distribution\n",
    "    return: Averaged Beta matrix over specified iterations\n",
    "    \"\"\"\n",
    "    num_samples = len(y)\n",
    "    num_features = X.shape[1]\n",
    "\n",
    "    if random_matrix_generator is None:\n",
    "        random_matrix_generator = lambda k, n: np.random.choice([-1, 1], size=(k, n))\n",
    "\n",
    "    sigma_matrix = np.zeros((num_features, num_features)) # Initialize Sigma matrix\n",
    "    gamma_vector = np.zeros((num_features, 1)) # Initialize Gamma matrix\n",
    "    beta_matrix = np.zeros((num_features, 1)) # Initialize Beta matrix\n",
    "\n",
    "    # Compute sigma and gamma matrices\n",
    "    for i in range(num_samples):\n",
    "        data_vector = np.array(X.iloc[i, :]).reshape(-1, 1)\n",
    "        target_value = y[i]\n",
    "        sigma_matrix += data_vector @ data_vector.T\n",
    "        gamma_vector += data_vector * target_value\n",
    "\n",
    "    sigma_matrix /= num_samples # Normalize Sigma\n",
    "    gamma_vector /= num_samples # Normalize Gamma\n",
    "\n",
    "    # Perform iterations to estimate Beta\n",
    "    for _ in range(B):\n",
    "        k = sampling_distribution(min_k, max_k) if sampling_distribution else random.randint(min_k, max_k)\n",
    "        random_matrix = random_matrix_generator(k, num_features)\n",
    "        intermediate_matrix = random_matrix @ sigma_matrix @ random_matrix.T\n",
    "        projected_beta = np.linalg.inv(intermediate_matrix) @ random_matrix @ gamma_vector\n",
    "        beta_matrix += random_matrix.T @ projected_beta\n",
    "\n",
    "    averaged_beta = beta_matrix / B # Calculate average Beta over B iterations\n",
    "    return averaged_beta\n"
   ]
  },
  {
   "cell_type": "code",
   "execution_count": 3,
   "id": "d275aad6",
   "metadata": {},
   "outputs": [
    {
     "data": {
      "image/png": "[encoded data removed]",
      "text/plain": [
       "<Figure size 432x288 with 1 Axes>"
      ]
     },
     "metadata": {
      "needs_background": "light"
     },
     "output_type": "display_data"
    }
   ],
   "source": [
    "nr.seed(1)\n",
    "X, y, t_coef = datasets.make_regression(n_samples=10000,n_features=1000,n_informative=100,coef=True)\n",
    "X = pd.DataFrame(X)\n",
    "Beta_ave = estimator(X, y, min_k=50, max_k=100)\n",
    "plt.plot(range(1,X.shape[1]+1),Beta_ave, label = \"Estimated Beta\")\n",
    "plt.plot(range(1,X.shape[1]+1), t_coef, label = \"True Beta\")\n",
    "plt.legend()\n",
    "plt.show()"
   ]
  },
  {
   "cell_type": "markdown",
   "id": "fee71fa4",
   "metadata": {},
   "source": [
    "Question 4"
   ]
  },
  {
   "cell_type": "code",
   "execution_count": 4,
   "id": "8dd79d33",
   "metadata": {},
   "outputs": [],
   "source": [
    "np.random.seed(0)\n",
    "n = 100\n",
    "p = 30\n",
    "k = 5\n",
    "X_full = np.random.uniform(low = 0, high = 1, size = n * p).reshape(n, p)\n",
    "beta_true = np.random.normal(0, 1, p).reshape(p, 1)\n",
    "y_full = X_full @ beta_true + np.random.normal(size = n).reshape(n, 1)\n",
    "\n",
    "from sklearn.model_selection import train_test_split\n",
    "X_train, X_test, y_train, y_test = train_test_split(X_full, y_full, test_size = 0.2, random_state = 42)"
   ]
  },
  {
   "cell_type": "code",
   "execution_count": 5,
   "id": "1cfc840c",
   "metadata": {},
   "outputs": [],
   "source": [
    "def f_n(X, Omega):\n",
    "    n = X.shape[0] \n",
    "    p = X.shape[1]\n",
    "    k = Omega.shape[0]\n",
    "    \n",
    "    sum_of_squares = 0\n",
    "    \n",
    "    for i in range(n):\n",
    "        for j in range(n):\n",
    "            original_inner_product = X[i, :].dot(X[j, :])\n",
    "            projected_inner_product = (Omega.dot(X[i, :])).dot(Omega.dot(X[j, :]))\n",
    "            sum_of_squares += (original_inner_product - projected_inner_product) ** 2\n",
    "            \n",
    "    return sum_of_squares\n"
   ]
  },
  {
   "cell_type": "code",
   "execution_count": 6,
   "id": "defd4592",
   "metadata": {},
   "outputs": [],
   "source": [
    "Omega_norm = np.random.normal(0, 1, k*p).reshape(k, p)"
   ]
  },
  {
   "cell_type": "code",
   "execution_count": 7,
   "id": "13ed4c55",
   "metadata": {},
   "outputs": [],
   "source": [
    "Omegas = [2 * np.random.binomial(n = 1, p = 0.5, size = k * p).reshape(k, p) - 1 for i in range(30)]\n",
    "Omega_n = Omegas[np.argmin([f_n(X_train, Omega) for Omega in Omegas])]"
   ]
  },
  {
   "cell_type": "code",
   "execution_count": 8,
   "id": "a84238e1",
   "metadata": {},
   "outputs": [
    {
     "name": "stdout",
     "output_type": "stream",
     "text": [
      "f_n for normal projection: 11302719.100843692\n",
      "f_n for k-dim embedding: 523019.73283881106\n",
      "MSE for normal projection: 3.06229659576566\n",
      "MSE for k-dim embedding: 1.9999558068810184\n"
     ]
    }
   ],
   "source": [
    "def compute_mse(X_train, y_train, X_test, y_test, Omega):\n",
    "    X_train_proj = X_train @ Omega.T\n",
    "    X_test_proj = X_test @ Omega.T\n",
    "    beta_proj = np.linalg.inv(X_train_proj.T @ X_train_proj) @ X_train_proj.T @ y_train\n",
    "    y_pred = X_test_proj @ beta_proj\n",
    "    mse = ((y_test - y_pred) ** 2).mean()\n",
    "    return mse\n",
    "\n",
    "mse_norm = compute_mse(X_train, y_train, X_test, y_test, Omega_norm)\n",
    "mse_kdim = compute_mse(X_train, y_train, X_test, y_test, Omega_n)\n",
    "\n",
    "print(f'f_n for normal projection: {f_n(X_train, Omega_norm)}')\n",
    "print(f'f_n for k-dim embedding: {f_n(X_train, Omega_n)}')\n",
    "\n",
    "print(f'MSE for normal projection: {mse_norm}')\n",
    "print(f'MSE for k-dim embedding: {mse_kdim}')\n"
   ]
  }
 ],
 "metadata": {
  "kernelspec": {
   "display_name": "Python 3 (ipykernel)",
   "language": "python",
   "name": "python3"
  },
  "language_info": {
   "codemirror_mode": {
    "name": "ipython",
    "version": 3
   },
   "file_extension": ".py",
   "mimetype": "text/x-python",
   "name": "python",
   "nbconvert_exporter": "python",
   "pygments_lexer": "ipython3",
   "version": "3.9.12"
  }
 },
 "nbformat": 4,
 "nbformat_minor": 5
}
