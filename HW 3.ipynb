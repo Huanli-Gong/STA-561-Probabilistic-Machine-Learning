{
 "cells": [
  {
   "cell_type": "code",
   "execution_count": 1,
   "id": "d217e070-6237-41cd-9394-a689ff5401a1",
   "metadata": {},
   "outputs": [],
   "source": [
    "import numpy as np\n",
    "import pandas as pd\n",
    "import sklearn\n",
    "from sklearn.metrics import mean_squared_error,mean_absolute_error\n",
    "from sklearn.model_selection import KFold"
   ]
  },
  {
   "cell_type": "markdown",
   "id": "88cb331d-6905-4c38-9f21-c241904df618",
   "metadata": {},
   "source": [
    "## Function for Tuning Blackbox Regression Models: `tune_regression_model`"
   ]
  },
  {
   "cell_type": "code",
   "execution_count": 2,
   "id": "f3fc5692-acd5-490e-ad3f-d5c8f10f68e5",
   "metadata": {},
   "outputs": [],
   "source": [
    "def tune_regression_model(algorithm, X, Y, reg_method = \"Dropout\", M = 100, K = 10, c = None, criterion = \"MSE\"):\n",
    "    \"\"\"\n",
    "    This function uses different regularization methods to train a predicted model that optimizes the specific criterion.\n",
    "    @param algorithm(required): A learning algorithm that takes X, Y as inputs and outputs a model \n",
    "    @param X(required): The matrix of indepdent/predictor variables\n",
    "    @param Y(required): The outcome variable\n",
    "    @param reg_method(default value is 'Dropout'): Regularization methods Can be 'Dropout', 'NoiseAddition' or 'Robust'\n",
    "    @param M(default value is 100): The number of Monte Carlo replicates\n",
    "    @param K(default value is 5): Number of CV folds for tuning hyperparameter\n",
    "    @param c(only used when the method is 'Robust'): A 1xp matrix, means the column bounds for X or the bound for each predictor variable.\n",
    "    The best hyperparameter here is a p-dimensional vector.\n",
    "    @param criterion(default value is 'MSE'): A criterion to be used to evaluate the method.Can be either mean squared error (MSE) or mean absolute deviation (MAD)\n",
    "    @return: A predictive model that optimizes the specific criterion\n",
    "    \"\"\"\n",
    "    def dropout(algorithm, X, Y, phi):\n",
    "        Z = np.random.binomial(1, phi, size=X.shape)\n",
    "        return algorithm(X * Z/(1-phi) ,Y)\n",
    "    \n",
    "    def noiseAddition(algorithm, X, Y, lam):\n",
    "        Z = np.random.normal(0, lam, size=X.shape)\n",
    "        return algorithm(X + Z,Y)\n",
    "    \n",
    "    def robust(algorithm, X, Y, c, scoring=mean_squared_error):\n",
    "        max_error=0\n",
    "        D = np.zeros(X.shape) \n",
    "        for _ in range(100):\n",
    "            delta_matrix = np.zeros((X.shape)) \n",
    "            for j in range(len(c)):\n",
    "                # Randomly sample a value k such that k <= c_j\n",
    "                k = np.random.uniform(low=0, high=c[j])\n",
    "                # Generate a vector from a normal distribution\n",
    "                delta = np.random.normal(0, 1, len(X))\n",
    "                # Normalize the vector so the sum of squares equals k\n",
    "                delta = delta * k / np.linalg.norm(delta)\n",
    "                # Assign the vector to the j-th column of delta_matrix\n",
    "                delta_matrix[:, j] = delta\n",
    "            X_new = X + delta_matrix\n",
    "            pred = algorithm(X_new, Y).predict(X_new)\n",
    "            delta_error = scoring(Y, pred)\n",
    "            if delta_error>max_error:\n",
    "                max_error=delta_error\n",
    "                D = delta_matrix\n",
    "\n",
    "        return algorithm(X+D, Y)\n",
    "\n",
    "    if criterion == 'MSE':\n",
    "        scoring = mean_squared_error\n",
    "    elif criterion == 'MAD':\n",
    "        scoring = mean_absolute_error\n",
    "    else:\n",
    "        raise ValueError(\"Unsupported criterion\")  \n",
    "    \n",
    "    if reg_method == \"Robust\":\n",
    "        if not c:\n",
    "            raise ValueError('Please input a vector c of column bounds to be used if the method specified is Robust')\n",
    "        hp_list = [[np.random.uniform(low=0, high=cj) for cj in c] for i in range(10)]\n",
    "        method = robust\n",
    "    elif reg_method == \"NoiseAddition\":\n",
    "        method = noiseAddition\n",
    "        hp_list = np.linspace(0, 1, 10)\n",
    "    elif reg_method == \"Dropout\":\n",
    "        method = dropout\n",
    "        hp_list = np.arange(0, 1, 0.1)\n",
    "    else:\n",
    "        raise ValueError('Unsupported regularization method')\n",
    "        \n",
    "    cv_error = []\n",
    "    \n",
    "    for hp in hp_list:\n",
    "        error = []\n",
    "        for train_index, test_index in KFold(n_splits = K).split(X):\n",
    "            X_train, X_test = X[train_index], X[test_index]\n",
    "            Y_train, Y_test = Y[train_index], Y[test_index]\n",
    "            if reg_method != 'Robust':\n",
    "                X_train = np.repeat(X_train, M, axis=0)\n",
    "                Y_train = np.repeat(Y_train, M, axis=0)\n",
    "            model = method(algorithm, X_train, Y_train, hp)\n",
    "            pred = model.predict(X_test)\n",
    "            error.append(scoring(Y_test, pred))\n",
    "        \n",
    "        cv_error.append(np.mean(error))\n",
    "        \n",
    "    hp_opt = hp_list[np.argmin(cv_error)]\n",
    "    \n",
    "    return method(algorithm, X, Y, hp_opt)"
   ]
  },
  {
   "cell_type": "markdown",
   "id": "d694c3e3-d78b-4a9d-b176-4f3e7f9a4aba",
   "metadata": {},
   "source": [
    "## Example"
   ]
  },
  {
   "cell_type": "code",
   "execution_count": 3,
   "id": "87e5d56a-d120-486b-a936-5387de5867e7",
   "metadata": {},
   "outputs": [],
   "source": [
    "from sklearn.datasets import fetch_california_housing\n",
    "data = fetch_california_housing()\n",
    "sample_size = 100\n",
    "indices = np.random.choice(len(data.data), sample_size, replace=False)\n",
    "\n",
    "X = data.data[indices]\n",
    "Y = data.target[indices]"
   ]
  },
  {
   "cell_type": "markdown",
   "id": "8b98052b-2018-4a50-82e3-78fd467ab9fa",
   "metadata": {},
   "source": [
    "### Linear Algorithm"
   ]
  },
  {
   "cell_type": "code",
   "execution_count": 4,
   "id": "ca9964d1-ba87-402a-bce0-0c050bb40529",
   "metadata": {},
   "outputs": [],
   "source": [
    "from sklearn.linear_model import LinearRegression\n",
    "def algorithm(X, Y):\n",
    "    return LinearRegression().fit(X, Y)"
   ]
  },
  {
   "cell_type": "code",
   "execution_count": 5,
   "id": "b304c7ea-0408-44f8-b0b1-d1f331b3ff56",
   "metadata": {},
   "outputs": [],
   "source": [
    "mod1_mse = tune_regression_model(algorithm, X, Y, reg_method = \"Dropout\", criterion = \"MSE\")\n",
    "mod1_mad = tune_regression_model(algorithm, X, Y, reg_method = \"Dropout\", criterion = \"MAD\")"
   ]
  },
  {
   "cell_type": "code",
   "execution_count": 6,
   "id": "5c70d8ef-d825-4620-a429-40b2397684df",
   "metadata": {},
   "outputs": [
    {
     "name": "stdout",
     "output_type": "stream",
     "text": [
      "1.029672579251916\n",
      "0.7656641188593579\n"
     ]
    }
   ],
   "source": [
    "print(mean_squared_error(Y, mod1_mse.predict(X)))\n",
    "print(mean_absolute_error(Y, mod1_mad.predict(X)))"
   ]
  },
  {
   "cell_type": "code",
   "execution_count": 7,
   "id": "7e9d0146-f842-44fe-878d-c1d60adf52ae",
   "metadata": {},
   "outputs": [],
   "source": [
    "mod2_mse = tune_regression_model(algorithm, X, Y, reg_method = \"NoiseAddition\", criterion = \"MSE\")\n",
    "mod2_mad = tune_regression_model(algorithm, X, Y, reg_method = \"NoiseAddition\", criterion = \"MAD\")"
   ]
  },
  {
   "cell_type": "code",
   "execution_count": 8,
   "id": "9c240258-053d-46ad-aed5-bd9e8e696549",
   "metadata": {},
   "outputs": [
    {
     "name": "stdout",
     "output_type": "stream",
     "text": [
      "0.5963324577740188\n",
      "0.5265874605268295\n"
     ]
    }
   ],
   "source": [
    "print(mean_squared_error(Y, mod2_mse.predict(X)))\n",
    "print(mean_absolute_error(Y, mod2_mad.predict(X)))"
   ]
  },
  {
   "cell_type": "code",
   "execution_count": 9,
   "id": "6f30115a-a5cd-4b81-8487-98b1df3062d9",
   "metadata": {},
   "outputs": [],
   "source": [
    "mod3_mse = tune_regression_model(algorithm, X, Y, reg_method = \"Robust\", c = [1]*X.shape[1], criterion = \"MSE\")\n",
    "mod3_mad = tune_regression_model(algorithm, X, Y, reg_method = \"Robust\", c = [1]*X.shape[1], criterion = \"MAD\")"
   ]
  },
  {
   "cell_type": "code",
   "execution_count": 10,
   "id": "30e536c1-918d-4581-bd06-08dc708ae6b8",
   "metadata": {},
   "outputs": [
    {
     "name": "stdout",
     "output_type": "stream",
     "text": [
      "0.5648671642964664\n",
      "0.5086161957582362\n"
     ]
    }
   ],
   "source": [
    "print(mean_squared_error(Y, mod3_mse.predict(X)))\n",
    "print(mean_absolute_error(Y, mod3_mad.predict(X)))"
   ]
  },
  {
   "cell_type": "markdown",
   "id": "0ae55eb1-7de6-494d-949e-8a4cbef4b7fd",
   "metadata": {},
   "source": [
    "### Machine Learning Algorithm (Non-linear)"
   ]
  },
  {
   "cell_type": "code",
   "execution_count": 11,
   "id": "983cd0b1-6700-4273-b5e6-96357f83fcb2",
   "metadata": {},
   "outputs": [],
   "source": [
    "from sklearn.ensemble import GradientBoostingRegressor\n",
    "def algorithm(X, Y):\n",
    "    return GradientBoostingRegressor().fit(X, Y)"
   ]
  },
  {
   "cell_type": "code",
   "execution_count": 12,
   "id": "77cc7c93-bbed-4934-a027-7aa02825a226",
   "metadata": {},
   "outputs": [],
   "source": [
    "mod1_mse = tune_regression_model(algorithm, X, Y, reg_method = \"Dropout\", criterion = \"MSE\")\n",
    "mod1_mad = tune_regression_model(algorithm, X, Y, reg_method = \"Dropout\", criterion = \"MAD\")"
   ]
  },
  {
   "cell_type": "code",
   "execution_count": 13,
   "id": "7f01a7f0-df79-4251-ab42-0c3f1701b5d5",
   "metadata": {},
   "outputs": [
    {
     "name": "stdout",
     "output_type": "stream",
     "text": [
      "1.046605526969794\n",
      "0.791171378286101\n"
     ]
    }
   ],
   "source": [
    "print(mean_squared_error(Y, mod1_mse.predict(X)))\n",
    "print(mean_absolute_error(Y, mod1_mad.predict(X)))"
   ]
  },
  {
   "cell_type": "code",
   "execution_count": 14,
   "id": "ec3a0d35-1720-455d-a856-53662c2375e9",
   "metadata": {},
   "outputs": [],
   "source": [
    "mod2_mse = tune_regression_model(algorithm, X, Y, reg_method = \"NoiseAddition\", criterion = \"MSE\")\n",
    "mod2_mad = tune_regression_model(algorithm, X, Y, reg_method = \"NoiseAddition\", criterion = \"MAD\")"
   ]
  },
  {
   "cell_type": "code",
   "execution_count": 15,
   "id": "93bd911a-0f26-4e69-8319-87a981bc4e95",
   "metadata": {},
   "outputs": [
    {
     "name": "stdout",
     "output_type": "stream",
     "text": [
      "0.6030703342255406\n",
      "0.5360693028793765\n"
     ]
    }
   ],
   "source": [
    "print(mean_squared_error(Y, mod2_mse.predict(X)))\n",
    "print(mean_absolute_error(Y, mod2_mad.predict(X)))"
   ]
  },
  {
   "cell_type": "code",
   "execution_count": 16,
   "id": "b855f6fc-f25f-4735-93f9-4fb91f0e684f",
   "metadata": {},
   "outputs": [],
   "source": [
    "mod3_mse = tune_regression_model(algorithm, X, Y, reg_method = \"Robust\", c = [1]*X.shape[1], criterion = \"MSE\")\n",
    "mod3_mad = tune_regression_model(algorithm, X, Y, reg_method = \"Robust\", c = [1]*X.shape[1], criterion = \"MAD\")"
   ]
  },
  {
   "cell_type": "code",
   "execution_count": 17,
   "id": "3b47ef2c-de86-479c-ac74-81d79b0675fd",
   "metadata": {},
   "outputs": [
    {
     "name": "stdout",
     "output_type": "stream",
     "text": [
      "0.5653796778461474\n",
      "0.5050878591756583\n"
     ]
    }
   ],
   "source": [
    "print(mean_squared_error(Y, mod3_mse.predict(X)))\n",
    "print(mean_absolute_error(Y, mod3_mad.predict(X)))"
   ]
  },
  {
   "cell_type": "code",
   "execution_count": null,
   "id": "15d3fe80",
   "metadata": {},
   "outputs": [],
   "source": []
  }
 ],
 "metadata": {
  "kernelspec": {
   "display_name": "Python 3 (ipykernel)",
   "language": "python",
   "name": "python3"
  },
  "language_info": {
   "codemirror_mode": {
    "name": "ipython",
    "version": 3
   },
   "file_extension": ".py",
   "mimetype": "text/x-python",
   "name": "python",
   "nbconvert_exporter": "python",
   "pygments_lexer": "ipython3",
   "version": "3.9.12"
  }
 },
 "nbformat": 4,
 "nbformat_minor": 5
}
